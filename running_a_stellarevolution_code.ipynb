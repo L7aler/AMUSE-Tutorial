{
 "cells": [
  {
   "cell_type": "markdown",
   "metadata": {},
   "source": [
    "How to run a stellar evolution code\n",
    "====================\n",
    "\n",
    "Here we will generate initial conditions for a stellar evolution code. We will adopt population synthesis as well as Henyey stellar evolution.\n",
    "\n",
    "For reference you can read chapter 3 of Portegies Zwart & McMillan 2018 (2018araa.book.....P). \n",
    "\n",
    "With this tutorial you will learn\n",
    "- how to generate inital conditions (mass-function, King-model)\n",
    "- to initialize an gravitational N-body code\n",
    "- channels and intra-code data transfer\n",
    "- detecting binaries\n",
    "- plotting results\n",
    "- making cumulative distributions"
   ]
  },
  {
   "cell_type": "code",
   "execution_count": null,
   "metadata": {},
   "outputs": [],
   "source": [
    "%matplotlib inline\n",
    "import numpy\n",
    "from matplotlib import pyplot\n",
    "from amuse.units import units"
   ]
  },
  {
   "cell_type": "markdown",
   "metadata": {},
   "source": [
    "We start by setting-up a simulation by spe"
   ]
  },
  {
   "cell_type": "code",
   "execution_count": null,
   "metadata": {},
   "outputs": [],
   "source": [
    "from amuse.datamodel import Particles\n",
    "n_stars = 1024\n",
    "mmin = 0.1 | units.MSun\n",
    "mmax = 100 | units.MSun\n",
    "\n",
    "from amuse.lab import new_kroupa_mass_distribution\n",
    "mkroupa = new_kroupa_mass_distribution(n_stars,\n",
    "                                           mass_min=mmin, \n",
    "                                           mass_max=mmax)\n",
    "k_stars = Particles(mass=mkroupa)\n",
    "from amuse.lab import new_salpeter_mass_distribution\n",
    "msalpeter = new_salpeter_mass_distribution(n_stars, \n",
    "                                           mass_min=mmin, \n",
    "                                           mass_max=mmax)\n",
    "s_stars = Particles(mass=msalpeter)\n",
    "print(\"mean-mass for Kroupa=\", numpy.mean(k_stars.mass))\n",
    "print(\"mean-mass for Salpeter=\", numpy.mean(s_stars.mass))"
   ]
  },
  {
   "cell_type": "markdown",
   "metadata": {},
   "source": [
    "Now the mass functions are determine, we can evolve the stars in time. for this we start two stellar evolution codes, both parametrized and evolve the stars in time."
   ]
  },
  {
   "cell_type": "code",
   "execution_count": null,
   "metadata": {},
   "outputs": [],
   "source": [
    "from amuse.community.seba.interface import SeBa\n",
    "def start_stellar_code(stars):\n",
    "    stellar = SeBa()\n",
    "    stellar.particles.add_particles(stars)\n",
    "    channels = {\"to_stars\": stellar.particles.new_channel_to(stars), \n",
    "                \"to_stellar\": stars.new_channel_to(stellar.particles)}\n",
    "    return stellar, channels\n",
    "kstellar, kchannels = start_stellar_code(k_stars)\n",
    "sstellar, schannels = start_stellar_code(s_stars)"
   ]
  },
  {
   "cell_type": "markdown",
   "metadata": {},
   "source": [
    "Stellar evolion code is declared. Not run in time and calculate the mean mass as a function of time"
   ]
  },
  {
   "cell_type": "code",
   "execution_count": null,
   "metadata": {},
   "outputs": [],
   "source": [
    "times = 10**numpy.arange(0.0, 4.0, 0.1) | units.Myr\n",
    "mmean = []\n",
    "for time in times:\n",
    "    kstellar.evolve_model(time)\n",
    "    kchannels[\"to_stars\"].copy()\n",
    "    sstellar.evolve_model(time)\n",
    "    schannels[\"to_stars\"].copy()\n",
    "    mmean.append(numpy.mean(k_stars.mass)/numpy.mean(s_stars.mass))\n",
    "kstellar.stop()\n",
    "sstellar.stop()\n",
    "print(\"mean-mass for Kroupa=\", numpy.mean(k_stars.mass))\n",
    "print(\"mean-mass for Salpeter=\", numpy.mean(s_stars.mass))"
   ]
  },
  {
   "cell_type": "code",
   "execution_count": null,
   "metadata": {},
   "outputs": [],
   "source": [
    "from amuse.plot import plot\n",
    "plot(times, mmean)\n",
    "pyplot.ylabel(\"relative mean mass\")\n",
    "pyplot.semilogx()\n",
    "pyplot.show()"
   ]
  },
  {
   "cell_type": "code",
   "execution_count": null,
   "metadata": {},
   "outputs": [],
   "source": [
    "from amuse.plot import scatter\n",
    "scatter(s_stars.temperature, s_stars.luminosity, c='r')\n",
    "scatter(k_stars.temperature, k_stars.luminosity, c='b', s=3)\n",
    "pyplot.xlim(2.e+4, 2000)\n",
    "pyplot.ylim(1.e-5, 1000)\n",
    "pyplot.loglog()\n",
    "pyplot.show()"
   ]
  },
  {
   "cell_type": "markdown",
   "metadata": {},
   "source": [
    "You have calculated the evolution of a stellar population with solar metalicity.\n",
    "\n",
    "Assignmnets and questions:\n",
    "---------------\n",
    "\n",
    "### Assignment 1:\n",
    "Run the notebook and describe the evolution of the relative mean stellar mass. Why does it drop with time?\n",
    "\n",
    "### Assignment 2:\n",
    "Compare the mean mass of two stellar populations with different metalicity, 0.02 (solar) and 0.1 (5-times solar).\n",
    "\n",
    "### Question 1:\n",
    "Is there a difference in the number of compact objects in the two populations, and is this difference statistically significant?\n",
    "\n",
    "Is this same difference also noticeable in the number of main-sequence stars?\n",
    "\n",
    "### Assignment 3:\n",
    "Calculate, instead of the mean mass, the total luminosity and temperature of the entire population of stars as a function of time.\n",
    "Make a plot of these parameters for both mass function. \n",
    "\n",
    "### Question 4:\n",
    "Can one, based on observational differences in luminosity and integrated temperature, make a distinction between the two mass functions?"
   ]
  }
 ],
 "metadata": {
  "kernelspec": {
   "display_name": "Python 3",
   "language": "python",
   "name": "python3"
  },
  "language_info": {
   "codemirror_mode": {
    "name": "ipython",
    "version": 3
   },
   "file_extension": ".py",
   "mimetype": "text/x-python",
   "name": "python",
   "nbconvert_exporter": "python",
   "pygments_lexer": "ipython3",
   "version": "3.7.6"
  }
 },
 "nbformat": 4,
 "nbformat_minor": 4
}
