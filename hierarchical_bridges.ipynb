{
 "cells": [
  {
   "cell_type": "markdown",
   "metadata": {},
   "source": [
    "AMUSE tutorial on high-order bridge\n",
    "====================\n",
    "\n",
    "Hierarchical coupling strategies are fundamental parts of AMUSE.\n",
    "It enables us to combined the output of a wide variety of solvers into a homogeneous solution.\n",
    "In this example we will be nesting multiple bridges, to show the power of bridge."
   ]
  },
  {
   "cell_type": "code",
   "execution_count": null,
   "metadata": {},
   "outputs": [],
   "source": [
    "import numpy\n",
    "from amuse.units import (units, constants)\n",
    "from amuse.lab import Particles\n",
    "from amuse.units import nbody_system\n",
    "from matplotlib import pyplot"
   ]
  },
  {
   "cell_type": "code",
   "execution_count": null,
   "metadata": {},
   "outputs": [],
   "source": [
    "def sun_earth_and_moon():\n",
    "    stars = Particles(4)\n",
    "    sun = stars[0]\n",
    "    sun.mass = units.MSun(1.0)\n",
    "    sun.position = units.m(numpy.array((0.0,0.0,0.0)))\n",
    "    sun.velocity = units.ms(numpy.array((0.0,0.0,0.0)))\n",
    "    sun.radius = units.RSun(1.0)\n",
    "\n",
    "    earth = stars[1]\n",
    "    earth.mass = units.kg(5.9736e24)\n",
    "    earth.radius = units.km(6371) \n",
    "    earth.position = units.km(numpy.array((149.5e6,0.0,0.0)))\n",
    "    earth.velocity = units.ms(numpy.array((0.0,29800,0.0)))\n",
    "\n",
    "    moon = stars[2]\n",
    "    moon.mass = units.kg(7.3477e22 )\n",
    "    moon.radius = units.km(1737.10) \n",
    "    moon.position = units.km(numpy.array((earth.x.value_in(units.km) + 384399.0 ,0.0,0.0)))\n",
    "    moon.velocity = ([0.0,1.022,0] | units.km/units.s) + earth.velocity   \n",
    "    \n",
    "    jupiter = stars[3]\n",
    "    jupiter.mass = 50 | units.MJupiter\n",
    "    jupiter.position = (1, 0, 0) * (778.e+6 | units.km)\n",
    "    v = (constants.G*sun.mass/jupiter.x).sqrt()\n",
    "    jupiter.velocity = (0, 1, 0) * v\n",
    "\n",
    "    return sun, earth, moon, jupiter"
   ]
  },
  {
   "cell_type": "code",
   "execution_count": null,
   "metadata": {},
   "outputs": [],
   "source": [
    "from amuse.community.ph4.interface import ph4\n",
    "\n",
    "sun, earth, moon, jupiter = sun_earth_and_moon()\n",
    "sosy = sun + earth + moon + jupiter\n",
    "\n",
    "converter=nbody_system.nbody_to_si(sun.mass, earth.position.length())\n",
    "star_gravity = ph4(converter)\n",
    "star_gravity.particles.add_particle(sun + jupiter)\n",
    "\n",
    "planet_gravity = ph4(converter)\n",
    "planet_gravity.particles.add_particle(earth)\n",
    "\n",
    "moon_gravity = ph4(converter)\n",
    "moon_gravity.particles.add_particle(moon)\n",
    "\n",
    "channel_from_star_to_framework = star_gravity.particles.new_channel_to(sosy)\n",
    "channel_from_planet_to_framework = planet_gravity.particles.new_channel_to(sosy)\n",
    "channel_from_moon_to_framework = moon_gravity.particles.new_channel_to(sosy)"
   ]
  },
  {
   "cell_type": "code",
   "execution_count": null,
   "metadata": {},
   "outputs": [],
   "source": [
    "from amuse.couple import bridge\n",
    "sp_gravity = bridge.Bridge()\n",
    "sp_gravity.add_system(moon_gravity, (planet_gravity,))\n",
    "sp_gravity.add_system(planet_gravity, (moon_gravity,))\n",
    "\n",
    "gravity = bridge.Bridge()\n",
    "gravity.add_system(sp_gravity, (star_gravity,))\n",
    "gravity.add_system(star_gravity, (sp_gravity,))"
   ]
  },
  {
   "cell_type": "code",
   "execution_count": null,
   "metadata": {},
   "outputs": [],
   "source": [
    "from amuse.lab import zero\n",
    "Etot_init = gravity.kinetic_energy + gravity.potential_energy\n",
    "Etot_prev = Etot_init\n",
    "\n",
    "sp_gravity.timestep = 1|units.day\n",
    "gravity.timestep = 10|units.day\n",
    "time = zero\n",
    "dt = 20|units.day\n",
    "t_end = 24| units.yr\n",
    "r_se= [] | units.au\n",
    "r_em = [] | units.au\n",
    "t = [] | units.yr\n",
    "while time < t_end:\n",
    "    time += dt\n",
    "    gravity.evolve_model(time)\n",
    "\n",
    "    Etot_prev_se = gravity.kinetic_energy + gravity.potential_energy\n",
    "\n",
    "    channel_from_star_to_framework.copy()\n",
    "    channel_from_planet_to_framework.copy()\n",
    "    channel_from_moon_to_framework.copy()\n",
    "    \n",
    "    t.append(time)\n",
    "    r_se.append((sun.position-earth.position).length())\n",
    "    r_em.append((earth.position-moon.position).length())\n",
    "             \n",
    "    Ekin = gravity.kinetic_energy \n",
    "    Epot = gravity.potential_energy\n",
    "    Etot = Ekin + Epot\n",
    "    print(\"T=\", time.in_(units.yr), end=' ') \n",
    "    print(\"E= \", Etot/Etot_init, \"Q= \", Ekin/Epot, end=' ')\n",
    "    print(\"dE=\", (Etot_init-Etot)/Etot, \"ddE=\", (Etot_prev-Etot)/Etot) \n",
    "    Etot_prev = Etot\n",
    "gravity.stop()\n",
    "\n",
    "from amuse.plot import plot\n",
    "plot(t, r_se)\n",
    "plot(t, r_em)\n",
    "pyplot.semilogy()\n",
    "pyplot.show()"
   ]
  },
  {
   "cell_type": "code",
   "execution_count": null,
   "metadata": {},
   "outputs": [],
   "source": []
  }
 ],
 "metadata": {
  "kernelspec": {
   "display_name": "Python 3",
   "language": "python",
   "name": "python3"
  },
  "language_info": {
   "codemirror_mode": {
    "name": "ipython",
    "version": 3
   },
   "file_extension": ".py",
   "mimetype": "text/x-python",
   "name": "python",
   "nbconvert_exporter": "python",
   "pygments_lexer": "ipython3",
   "version": "3.7.6"
  }
 },
 "nbformat": 4,
 "nbformat_minor": 4
}
