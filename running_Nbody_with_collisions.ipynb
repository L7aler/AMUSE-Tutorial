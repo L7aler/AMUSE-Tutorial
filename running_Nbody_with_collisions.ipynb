{
 "cells": [
  {
   "cell_type": "markdown",
   "metadata": {},
   "source": [
    "How to run a code with stopping conditions\n",
    "====================\n",
    "\n",
    "Stopping conditions should be considered interrupts that are initiated through a special conditions in the running code. Topping conditions leave the running code in a restartable state while existing the code to hand the control back to the python (i.e. the AMUSE) script. There are stopping conditions in most codes, but here we only discuss one of them in the stellar dynamics codes, which is called: *collision_detection*\n",
    "\n",
    "For reference you can read chapter 2 of Portegies Zwart & McMillan 2018 (2018araa.book.....P). \n",
    "\n",
    "With this tutorial you will learn\n",
    "- how to generate inital conditions (mass-function, King-model)\n",
    "- to initialize an gravitational N-body code\n",
    "- channels and intra-code data transfer\n",
    "- detecting binaries\n",
    "- plotting results\n",
    "- making cumulative distributions"
   ]
  },
  {
   "cell_type": "code",
   "execution_count": 1,
   "metadata": {
    "scrolled": true
   },
   "outputs": [],
   "source": [
    "%matplotlib inline\n",
    "import numpy\n",
    "numpy.random.seed(98429435)\n",
    "from matplotlib import pyplot\n",
    "from amuse.units import units"
   ]
  },
  {
   "cell_type": "markdown",
   "metadata": {},
   "source": [
    "Let's start by generating the initial conditions and initializing the N-body code."
   ]
  },
  {
   "cell_type": "code",
   "execution_count": 2,
   "metadata": {
    "scrolled": true
   },
   "outputs": [
    {
     "data": {
      "text/plain": [
       "<amuse.datamodel.particles.ParticlesSubset at 0x7f7828f60f10>"
      ]
     },
     "execution_count": 2,
     "metadata": {},
     "output_type": "execute_result"
    }
   ],
   "source": [
    "n_stars = 100\n",
    "alpha_IMF = -2.35\n",
    "\n",
    "from amuse.lab import new_powerlaw_mass_distribution\n",
    "m_stars = new_powerlaw_mass_distribution(n_stars, \n",
    "                                         10.0|units.MSun, \n",
    "                                         100.0|units.MSun, \n",
    "                                         alpha_IMF)\n",
    "\n",
    "r_cluster = 1.0 | units.parsec\n",
    "from amuse.units import nbody_system\n",
    "converter=nbody_system.nbody_to_si(m_stars.sum(), r_cluster)\n",
    "from amuse.ic.plummer import new_plummer_model\n",
    "stars=new_plummer_model(n_stars, convert_nbody=converter)\n",
    "stars.mass = m_stars\n",
    "setattr(stars, \"collision_radius\", 0|units.RSun)\n",
    "stars.scale_to_standard(converter)\n",
    "\n",
    "from amuse.community.ph4.interface import ph4\n",
    "from amuse.community.seba.interface import SeBa\n",
    "from amuse.ext.LagrangianRadii import LagrangianRadii\n",
    "\n",
    "stellar = SeBa()\n",
    "stellar.particles.add_particles(stars)\n",
    "\n",
    "gravity = ph4(converter, number_of_workers=6)\n",
    "gravity.particles.add_particles(stars)"
   ]
  },
  {
   "cell_type": "markdown",
   "metadata": {},
   "source": [
    "Now let's declare the channels.\n",
    "This is somewhat more elaborate here, because there are two new parameters to declare, which are the *relative_mass* and the *collision_radius*\n",
    "Both parameters are needed in order to assure that our stellar collisions behave as expected"
   ]
  },
  {
   "cell_type": "code",
   "execution_count": 3,
   "metadata": {
    "scrolled": true
   },
   "outputs": [],
   "source": [
    "stellar_attributes = [\"mass\", \"radius\", \"age\", \"temperature\", \"luminosity\", \"relative_mass\"]\n",
    "channel = {\"from_stellar\":\n",
    "              stellar.particles.new_channel_to(stars,\n",
    "              attributes=stellar_attributes,\n",
    "              target_names=stellar_attributes),\n",
    "            \"from_gravity\": \n",
    "              gravity.particles.new_channel_to(stars,\n",
    "              attributes=[\"x\", \"y\", \"z\", \"vx\", \"vy\", \"vz\", \"mass\"],\n",
    "              target_names=[\"x\", \"y\", \"z\", \"vx\", \"vy\", \"vz\", \"mass\"]),\n",
    "            \"to_gravity\": \n",
    "              stars.new_channel_to(gravity.particles,\n",
    "              attributes=[\"mass\", \"collision_radius\"],\n",
    "              target_names=[\"mass\", \"radius\"])}\n",
    "    \n",
    "channel[\"from_stellar\"].copy()"
   ]
  },
  {
   "cell_type": "markdown",
   "metadata": {},
   "source": [
    "We here explicitely copied particle attributes which we think are of interesting for this experiment, including stellar mass, radius, age, temperature and luminosity.\n",
    "\n",
    "##### *collision_radius*\n",
    "An additional parameter was introduced to keep track of the collisional radius for the stars. Stars tend to be small compared to the inter-stellar distance. In order to warrant some nice collisions in our simulation we may want to expand the stellar size in comparison with the equilibrium photospheric radius of the stars. We can do this by adding an additional parameter, here called *collision_radius* to the particle set. Notive that the *collision_radius* is copied into the attribute *radius* of the stars in the N-body code, because there is no separate collision-radius in the N-body code, but the attribute *radius* is used to check for two objects to come close before an exception is thrown.\n",
    "\n",
    "##### *relative_mass*\n",
    "\n",
    "Let's check if this is what we expected."
   ]
  },
  {
   "cell_type": "code",
   "execution_count": 4,
   "metadata": {
    "scrolled": true
   },
   "outputs": [
    {
     "data": {
      "image/png": "[encoded data removed]",
      "text/plain": [
       "<Figure size 792x216 with 2 Axes>"
      ]
     },
     "metadata": {
      "needs_background": "light"
     },
     "output_type": "display_data"
    }
   ],
   "source": [
    "def plot_snapshot(bodies):\n",
    "    v = (bodies.vx**2 + bodies.vy**2 + bodies.vz**2).sqrt()\n",
    "    s = bodies.mass.value_in(units.MSun)\n",
    "    fig, (ax1, ax2) = pyplot.subplots(1, 2, figsize=(11, 3))\n",
    "    ax1.scatter(stars.temperature.value_in(units.K),\n",
    "                stars.luminosity.value_in(units.LSun), \n",
    "                c=v.value_in(units.kms),\n",
    "                s=s)\n",
    "    ax1.set_xlim(6.e+4, 20000)\n",
    "    ax1.set_ylim(1.e+3, 1.e+7)\n",
    "    ax1.loglog()\n",
    "    ax1.set_xlabel(\"T [K]\")\n",
    "    ax1.set_ylabel(\"L [$L_\\odot$]\")\n",
    "    ax2.scatter(bodies.x.value_in(units.pc), \n",
    "                bodies.y.value_in(units.pc), \n",
    "                c=v.value_in(units.kms), \n",
    "                s=s)\n",
    "    pyplot.gca().set_aspect('equal', adjustable='box')\n",
    "    ax2.set_xlabel(\"x [pc]\")\n",
    "    ax2.set_ylabel(\"y [pc]\")\n",
    "    ax2.set_xlim(-5, 5)\n",
    "    ax2.set_ylim(-5, 5)\n",
    "    pyplot.show()\n",
    "plot_snapshot(stars)"
   ]
  },
  {
   "cell_type": "markdown",
   "metadata": {},
   "source": [
    "Now initiate the stopping conditions in order to detect a merger between two stars."
   ]
  },
  {
   "cell_type": "code",
   "execution_count": 5,
   "metadata": {
    "scrolled": true
   },
   "outputs": [],
   "source": [
    "stopping_condition = gravity.stopping_conditions.collision_detection\n",
    "stopping_condition.enable()\n",
    "collision_radius_multiplication_factor = 1000"
   ]
  },
  {
   "cell_type": "markdown",
   "metadata": {},
   "source": [
    "We introduced a multiplication factor in order to acquire many nice collisions."
   ]
  },
  {
   "cell_type": "code",
   "execution_count": 6,
   "metadata": {
    "scrolled": true
   },
   "outputs": [],
   "source": [
    "def merge_two_stars(bodies, particles_in_encounter):\n",
    "    com_pos = particles_in_encounter.center_of_mass()\n",
    "    com_vel = particles_in_encounter.center_of_mass_velocity()\n",
    "    d = (particles_in_encounter[0].position - particles_in_encounter[1].position)\n",
    "    v = (particles_in_encounter[0].velocity - particles_in_encounter[1].velocity)\n",
    "    print(\"Actually merger occurred:\")\n",
    "    print(\"Two stars (M=\",particles_in_encounter.mass.in_(units.MSun),\n",
    "          \") collided with d=\", d.length().in_(units.au))\n",
    "    new_particle=Particles(1)\n",
    "    new_particle.mass = particles_in_encounter.total_mass()\n",
    "    new_particle.age = min(particles_in_encounter.age) \\\n",
    "                     * max(particles_in_encounter.mass)/new_particle.mass\n",
    "    new_particle.position = com_pos\n",
    "    new_particle.velocity = com_vel\n",
    "    new_particle.radius = particles_in_encounter.radius.sum()\n",
    "    bodies.add_particles(new_particle)\n",
    "    bodies.remove_particles(particles_in_encounter)"
   ]
  },
  {
   "cell_type": "code",
   "execution_count": 7,
   "metadata": {
    "scrolled": true
   },
   "outputs": [],
   "source": [
    "from amuse.lab import Particles\n",
    "def resolve_collision(collision_detection, gravity, stellar, bodies):\n",
    "    if collision_detection.is_set():\n",
    "        print(\"Well, we have an actual collision between two or more stars.\")\n",
    "        print(\"This happened at time=\", stellar.model_time.in_(units.Myr))\n",
    "        for ci in range(len(collision_detection.particles(0))): \n",
    "            encountering_particles = Particles(particles=[collision_detection.particles(0)[ci],\n",
    "                                                          collision_detection.particles(1)[ci]])\n",
    "            colliding_stars = encountering_particles.get_intersecting_subset_in(bodies)\n",
    "            merge_two_stars(bodies, colliding_stars)\n",
    "            bodies.synchronize_to(gravity.particles)\n",
    "            bodies.synchronize_to(stellar.particles)"
   ]
  },
  {
   "cell_type": "code",
   "execution_count": 8,
   "metadata": {
    "scrolled": true
   },
   "outputs": [
    {
     "name": "stdout",
     "output_type": "stream",
     "text": [
      "Evolved to t= 1.04110538609 Myr 1.04122865478 Myr N= 100 mass= 1993.66251053 MSun rvir= 0.998653876477 parsec\n",
      "Evolved to t= 2.10936384433 Myr 2.10966203957 Myr N= 100 mass= 1959.93921196 MSun rvir= 0.929567951317 parsec\n",
      "Well, we have an actual collision between two or more stars.\n",
      "This happened at time= 2.84362036013 Myr\n",
      "Actually merger occurred:\n",
      "Two stars (M= [18.0118013246, 60.5759590107] MSun ) collided with d= 136201.735869 au\n",
      "Evolved to t= 3.19465602472 Myr 3.19493644771 Myr N= 99 mass= 1933.07810403 MSun rvir= 1.10950266651 parsec\n",
      "Evolved to t= 4.26273180745 Myr 4.26304596667 Myr N= 99 mass= 1926.78679045 MSun rvir= 1.24579934687 parsec\n",
      "Well, we have an actual collision between two or more stars.\n",
      "This happened at time= 4.99157401775 Myr\n",
      "Actually merger occurred:\n",
      "Two stars (M= [20.8576072923, 30.2734753246] MSun ) collided with d= 12615.1230545 au\n",
      "Well, we have an actual collision between two or more stars.\n",
      "This happened at time= 5.36268602897 Myr\n",
      "Actually merger occurred:\n",
      "Two stars (M= [18.5287767954, 13.330374787] MSun ) collided with d= 73077.9448724 au\n",
      "Evolved to t= 5.36268602897 Myr 5.19352705504 Myr N= 97 mass= 1918.78169881 MSun rvir= 1.23232321202 parsec\n",
      "Evolved to t= 6.11238813516 Myr 6.112481809 Myr N= 97 mass= 1913.44226096 MSun rvir= 1.22483391967 parsec\n",
      "Evolved to t= 7.03430771869 Myr 7.03436590413 Myr N= 97 mass= 1897.07458318 MSun rvir= 1.18669819398 parsec\n",
      "Evolved to t= 8.16939005746 Myr 8.17178271146 Myr N= 97 mass= 1865.17848276 MSun rvir= 1.44986644219 parsec\n",
      "Evolved to t= 9.29394321674 Myr 9.29397782462 Myr N= 97 mass= 1862.14002216 MSun rvir= 1.31655389766 parsec\n",
      "Well, we have an actual collision between two or more stars.\n",
      "This happened at time= 9.69688079813 Myr\n",
      "Actually merger occurred:\n",
      "Two stars (M= [42.5904995499, 41.5432594451] MSun ) collided with d= 22204.2487108 au\n",
      "Evolved to t= 10.1518873074 Myr 10.1518984176 Myr N= 96 mass= 1831.32470466 MSun rvir= 1.08346746551 parsec\n"
     ]
    }
   ],
   "source": [
    "end_time = 10.0 | units.Myr\n",
    "model_time = 0 | units.Myr\n",
    "rvir = [] | units.pc\n",
    "time = [] | units.Myr\n",
    "t_diag = 1| units.Myr\n",
    "while(model_time<end_time):\n",
    "    dt = stellar.particles.time_step.min()\n",
    "    model_time += dt\n",
    "    stellar.evolve_model(model_time)\n",
    "    channel[\"from_stellar\"].copy()\n",
    "    stars.collision_radius = stars.radius * collision_radius_multiplication_factor\n",
    "    channel[\"to_gravity\"].copy()\n",
    "    gravity.evolve_model(model_time)\n",
    "    resolve_collision(stopping_condition, gravity, stellar, stars)\n",
    "    channel[\"from_gravity\"].copy()\n",
    "    \n",
    "    if model_time >= t_diag:\n",
    "        t_diag += 1 | units.Myr\n",
    "\n",
    "        print(\"Evolved to t=\", stellar.model_time.in_(units.Myr), \n",
    "              gravity.model_time.in_(units.Myr),\n",
    "              \"N=\", len(stars),\n",
    "              \"mass=\", stars.mass.sum().in_(units.MSun), \n",
    "              \"rvir=\", stars.virial_radius().in_(units.pc))\n",
    "    rvir.append(stars.virial_radius())\n",
    "    time.append(model_time)\n",
    "    \n",
    "stellar.stop()\n",
    "gravity.stop()"
   ]
  },
  {
   "cell_type": "code",
   "execution_count": 9,
   "metadata": {
    "scrolled": true
   },
   "outputs": [
    {
     "data": {
      "image/png": "[encoded data removed]",
      "text/plain": [
       "<Figure size 792x216 with 2 Axes>"
      ]
     },
     "metadata": {
      "needs_background": "light"
     },
     "output_type": "display_data"
    },
    {
     "data": {
      "image/png": "[encoded data removed]",
      "text/plain": [
       "<Figure size 432x288 with 1 Axes>"
      ]
     },
     "metadata": {
      "needs_background": "light"
     },
     "output_type": "display_data"
    }
   ],
   "source": [
    "plot_snapshot(stars)\n",
    "pyplot.plot(time.value_in(units.Myr), rvir.value_in(units.parsec))\n",
    "pyplot.xlabel(\"t [Myr]\")\n",
    "pyplot.ylabel(\"$R_{vir}$ [pc]\")\n",
    "pyplot.show()"
   ]
  },
  {
   "cell_type": "markdown",
   "metadata": {},
   "source": [
    "You have calculated the evolution of a small cluster of 100 stars. Your calculation included the Newtonian dynamics, stellar evolution and collision.\n",
    "the collisions were rather simple, sticky spheres, and we have chosen the stellar radii to be a 1000 times larger than normal.\n",
    "\n",
    "Assignmnets and questions:\n",
    "---------------\n",
    "\n",
    "### Question 1:\n",
    "\n",
    " * Why did we run with a random seed?\n",
    " * How many collisions did occur?\n",
    " * What are these curious stars that are not on the main-sequence in the Hertzspron-Russel diagram?\n",
    " * Where in the cluster (with respect to the core-radius and virial-radius) are the collision products? Note that the core radius can be acquired at runtime from the particle set via the member function: *stars.densitycentre_coreradius_coredens*.\n",
    " \n",
    "### Assignment 1:\n",
    "Include the appropriate diagnostics in the script in order to address the following questions:\n",
    " \n",
    " * What was the distance from the cluster center where the collissions took place?\n",
    " * What is the amount of energy that has been dissipated in the collisions?\n",
    " * What is the actual numerical energ error in the calculation?\n",
    " \n",
    "### Assignment 2:\n",
    "We assumed that mass and momentum are conserved in the collision process. Change the script in such a way that the mass of the collision product is the sum of the primary mass and half that of the secondary.\n",
    "Rerun the script and explain the differences.\n",
    "\n",
    "### Questions 2:\n",
    "\n",
    " * Has the change affected the number of collisions?\n",
    " * What change do you see in the Hertzsprung-Russel diagram?\n",
    " * What happened to the cluster virial radius?\n",
    " \n",
    "### Questions 3:\n",
    "Considerable magic seems to be happening in the routine *resolve_collision*.\n",
    "\n",
    " * explain what happens in the following lines:\n",
    "```python\n",
    "   encountering_particles = Particles(\n",
    "       particles=[collision_detection.particles(0[ci],\n",
    "       collision_detection.particles(1)[ci]])\n",
    "```\n",
    " \n",
    " * and what happens in:\n",
    "```python\n",
    "colliding_stars = encountering_particles.get_intersecting_subset_in(bodies)\n",
    "```\n",
    "\n",
    " * and in:\n",
    "```python\n",
    "bodies.synchronize_to(gravity.particles)\n",
    "bodies.synchronize_to(stellar.particles)\n",
    "```\n",
    "\n",
    "### Assignment 4:\n",
    " * Write a one-line python script to find the brighest star."
   ]
  }
 ],
 "metadata": {
  "kernelspec": {
   "display_name": "Python 3",
   "language": "python",
   "name": "python3"
  },
  "language_info": {
   "codemirror_mode": {
    "name": "ipython",
    "version": 3
   },
   "file_extension": ".py",
   "mimetype": "text/x-python",
   "name": "python",
   "nbconvert_exporter": "python",
   "pygments_lexer": "ipython3",
   "version": "3.7.6"
  }
 },
 "nbformat": 4,
 "nbformat_minor": 4
}
